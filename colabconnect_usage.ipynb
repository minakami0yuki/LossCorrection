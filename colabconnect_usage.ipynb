{
  "cells": [
    {
      "cell_type": "markdown",
      "metadata": {
        "id": "view-in-github",
        "colab_type": "text"
      },
      "source": [
        "<a href=\"https://colab.research.google.com/github/minakami0yuki/LossCorrection/blob/main/colabconnect_usage.ipynb\" target=\"_parent\"><img src=\"https://colab.research.google.com/assets/colab-badge.svg\" alt=\"Open In Colab\"/></a>"
      ]
    },
    {
      "cell_type": "markdown",
      "metadata": {
        "id": "85rFLznaGor2"
      },
      "source": [
        "# ColabConnect\n",
        "\n",
        "Make a copy of this notebook from `File > Save a Copy in Drive`"
      ]
    },
    {
      "cell_type": "code",
      "execution_count": 1,
      "metadata": {
        "colab": {
          "base_uri": "https://localhost:8080/"
        },
        "id": "lIYdn1woOS1n",
        "outputId": "8d252394-c63f-4c77-f262-6d2ca2368bdf"
      },
      "outputs": [
        {
          "output_type": "stream",
          "name": "stdout",
          "text": [
            "Collecting git+https://github.com/amitness/colab-connect.git\n",
            "  Cloning https://github.com/amitness/colab-connect.git to /tmp/pip-req-build-uuyv_g7m\n",
            "  Running command git clone --filter=blob:none --quiet https://github.com/amitness/colab-connect.git /tmp/pip-req-build-uuyv_g7m\n",
            "  Resolved https://github.com/amitness/colab-connect.git to commit 2cb011c5a4a04c13da0a08f8a0e018fe7bf0b09e\n",
            "  Preparing metadata (setup.py) ... \u001b[?25l\u001b[?25hdone\n",
            "Building wheels for collected packages: colabconnect\n",
            "  Building wheel for colabconnect (setup.py) ... \u001b[?25l\u001b[?25hdone\n",
            "  Created wheel for colabconnect: filename=colabconnect-0.0.8-py3-none-any.whl size=4546 sha256=a51b23bce03c3abf89148e4974fc86e2bad3b5c6c46fc776cd73b953a547c3fe\n",
            "  Stored in directory: /tmp/pip-ephem-wheel-cache-5pcn2k3i/wheels/f5/6a/d6/b08b1226dbea3b0c022c25db8a99a9b6cad2973d7a8894c663\n",
            "Successfully built colabconnect\n",
            "Installing collected packages: colabconnect\n",
            "Successfully installed colabconnect-0.0.8\n"
          ]
        }
      ],
      "source": [
        "!pip install -U git+https://github.com/amitness/colab-connect.git"
      ]
    },
    {
      "cell_type": "markdown",
      "metadata": {
        "id": "IagqfpSHGqCw"
      },
      "source": [
        "## Create a tunnel\n",
        "- You will be asked to login on Google drive and GitHub\n",
        "- Once it's say ready, open your local VSCode Editor, open command prompt and select **Remote-Tunnels: Connect to Tunnel**\n",
        "- Choose the tunnel which says \"online\" beside it"
      ]
    },
    {
      "cell_type": "code",
      "source": [
        "from colabconnect import colabconnect\n",
        "\n",
        "colabconnect()"
      ],
      "metadata": {
        "id": "BNj85daEi-mR",
        "colab": {
          "base_uri": "https://localhost:8080/"
        },
        "outputId": "3dccc769-a375-4209-aa98-7486a70810f5"
      },
      "execution_count": null,
      "outputs": [
        {
          "output_type": "stream",
          "name": "stdout",
          "text": [
            "Mounting Google Drive...\n",
            "Mounted at /content/drive\n",
            "Ran: ln -s /content/drive/MyDrive/colab/ /\n",
            "Installing python libraries...\n",
            "Ran: pip3 install --user flake8 black ipywidgets twine\n",
            "Ran: pip3 install -U ipykernel\n",
            "Ran: apt install htop -y\n",
            "Installing vscode-cli...\n",
            "Ran: curl -Lk https://code.visualstudio.com/sha/download?build=stable&os=cli-alpine-x64 --output vscode_cli.tar.gz\n",
            "Ran: tar -xf vscode_cli.tar.gz\n",
            "Starting the tunnel\n",
            "To grant access to the server, please log into https://github.com/login/device and use code 48C1-4D2F\n"
          ]
        }
      ]
    }
  ],
  "metadata": {
    "colab": {
      "provenance": [],
      "include_colab_link": true
    },
    "kernelspec": {
      "display_name": "Python 3",
      "name": "python3"
    },
    "accelerator": "GPU",
    "gpuClass": "standard"
  },
  "nbformat": 4,
  "nbformat_minor": 0
}